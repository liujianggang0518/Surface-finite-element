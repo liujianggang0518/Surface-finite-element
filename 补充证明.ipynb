{
 "cells": [
  {
   "cell_type": "markdown",
   "metadata": {},
   "source": [
    "1.  \n",
    "$$\n",
    "\\Delta_Sv=\\nabla_S\\cdot(\\nabla_Sv)=\\Delta v-(\\nabla v\\cdot\\boldsymbol{n})(\\nabla \\cdot\\boldsymbol{n})-\\boldsymbol{n}^t\\nabla^2v\\boldsymbol{n}\n",
    "$$"
   ]
  },
  {
   "cell_type": "markdown",
   "metadata": {},
   "source": [
    "解：\n",
    "$$\n",
    "\\begin{aligned}\n",
    "\\Delta_Sv&=\\nabla_S\\cdot(\\nabla_Sv)=\\nabla_S\\cdot(\\nabla v-(\\nabla v\\cdot\\boldsymbol{n})\\boldsymbol{n})\\\\\n",
    "&=\\nabla_S\\cdot(\\nabla v)-\\nabla_S\\cdot[(\\nabla v\\cdot\\boldsymbol{n})\\boldsymbol{n}]\\\\\n",
    "&=\\nabla\\cdot(\\nabla v)-\\boldsymbol{n}^t\\nabla(\\nabla v)\\boldsymbol{n}-\\nabla\\cdot[(\\nabla v\\cdot\\boldsymbol{n})\\boldsymbol{n}]+\\boldsymbol{n}^t\\nabla[(\\nabla v\\cdot\\boldsymbol{n})\\boldsymbol{n}]\\boldsymbol{n}\\\\\n",
    "&=\\Delta v-\\boldsymbol{n}^t\\nabla^2v\\boldsymbol{n}-(\\nabla v\\cdot\\boldsymbol{n})(\\nabla\\cdot\\boldsymbol{n})-\\nabla(\\nabla v\\cdot\\boldsymbol{n})\\boldsymbol{n}+\\boldsymbol{n}^t[(\\nabla v\\cdot\\boldsymbol{n})\\nabla\\boldsymbol{n}+\\boldsymbol{n}\\nabla(\\nabla v\\boldsymbol{n})^T]\\boldsymbol{n}\\\\\n",
    "&=\\Delta v-\\boldsymbol{n}^t\\nabla^2v\\boldsymbol{n}-(\\nabla v\\cdot\\boldsymbol{n})(\\nabla\\cdot\\boldsymbol{n})-\\nabla(\\nabla\\cdot\\boldsymbol{n})\\boldsymbol{n}+\\boldsymbol{n}^t(\\nabla v\\cdot\\boldsymbol{n})\\nabla\\boldsymbol{n}\\cdot\\boldsymbol{n}+\\nabla(\\nabla\\cdot\\boldsymbol{n})\\boldsymbol{n}\\\\\n",
    "&=\\Delta v-(\\nabla v\\cdot\\boldsymbol{n})(\\nabla\\cdot\\boldsymbol{n})-\\boldsymbol{n}^t\\nabla^2v\\boldsymbol{n}\n",
    "\\end{aligned}\n",
    "$$"
   ]
  },
  {
   "cell_type": "code",
   "execution_count": null,
   "metadata": {},
   "outputs": [],
   "source": []
  }
 ],
 "metadata": {
  "kernelspec": {
   "display_name": "Python 2",
   "language": "python",
   "name": "python2"
  },
  "language_info": {
   "codemirror_mode": {
    "name": "ipython",
    "version": 2
   },
   "file_extension": ".py",
   "mimetype": "text/x-python",
   "name": "python",
   "nbconvert_exporter": "python",
   "pygments_lexer": "ipython2",
   "version": "2.7.12"
  }
 },
 "nbformat": 4,
 "nbformat_minor": 2
}
